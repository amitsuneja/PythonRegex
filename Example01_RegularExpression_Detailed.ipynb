{
 "cells": [
  {
   "cell_type": "markdown",
   "metadata": {},
   "source": [
    "<center><font color=red,size=10>__Packt - 2018 Python Regular Expressions - Real World Projects__</font></center>"
   ]
  },
  {
   "cell_type": "markdown",
   "metadata": {},
   "source": [
    "<center><font color=blue>__Chapter2 - Regular Expression Usage Demo__</font></center>"
   ]
  },
  {
   "cell_type": "code",
   "execution_count": 136,
   "metadata": {},
   "outputs": [],
   "source": [
    "# importing the module\n",
    "import re"
   ]
  },
  {
   "cell_type": "code",
   "execution_count": 137,
   "metadata": {},
   "outputs": [
    {
     "name": "stdout",
     "output_type": "stream",
     "text": [
      "charA\tcharB\n"
     ]
    }
   ],
   "source": [
    "# raw string\n",
    "string_normal = \"charA\\tcharB\"\n",
    "print(string_normal)"
   ]
  },
  {
   "cell_type": "code",
   "execution_count": 138,
   "metadata": {},
   "outputs": [
    {
     "name": "stdout",
     "output_type": "stream",
     "text": [
      "charA\\tcharB\n"
     ]
    }
   ],
   "source": [
    "raw_string = r\"charA\\tcharB\"\n",
    "print(raw_string)"
   ]
  },
  {
   "cell_type": "markdown",
   "metadata": {},
   "source": [
    "<left><font color=pink,size=10>__Note:__</font></left>\n",
    "\n",
    "1. __Remember in Regex always use raw string.__\n",
    "2. /t is tab character if its normal string , But if it is raw then for /t , / is escape sequence and t is coming up as a normal character"
   ]
  },
  {
   "cell_type": "markdown",
   "metadata": {},
   "source": [
    "<left><font color=pink,size=10>\n",
    "__Note: THIS IS VERY IMPORTANT EXAMPLE.__\n",
    "</font></left>\n"
   ]
  },
  {
   "cell_type": "code",
   "execution_count": 139,
   "metadata": {},
   "outputs": [
    {
     "name": "stdout",
     "output_type": "stream",
     "text": [
      "string = carpet and car and car but again carpet one harpet\n",
      "pattern= car|carpet\n",
      "\n",
      "re.search =  <_sre.SRE_Match object; span=(0, 3), match='car'>\n",
      "\n",
      "re.findall =  ['car', 'car', 'car', 'car']\n",
      "\n",
      "re.finditer =\n",
      "<_sre.SRE_Match object; span=(0, 3), match='car'>\n",
      "<_sre.SRE_Match object; span=(11, 14), match='car'>\n",
      "<_sre.SRE_Match object; span=(19, 22), match='car'>\n",
      "<_sre.SRE_Match object; span=(33, 36), match='car'>\n"
     ]
    }
   ],
   "source": [
    "string = \"carpet and car and car but again carpet one harpet\"\n",
    "pattern1 = r'car|carpet'\n",
    "print(\"string =\", string)\n",
    "print(\"pattern=\", pattern1)\n",
    "print(\"\\nre.search = \", re.search(pattern1, string))\n",
    "print(\"\\nre.findall = \", re.findall(pattern1, string))\n",
    "result = re.finditer(pattern1, string)\n",
    "print(\"\\nre.finditer =\")\n",
    "for item in result:\n",
    "\tprint(item)"
   ]
  },
  {
   "cell_type": "code",
   "execution_count": 140,
   "metadata": {},
   "outputs": [
    {
     "name": "stdout",
     "output_type": "stream",
     "text": [
      "string = carpet and car and car but again carpet one harpet\n",
      "pattern= carpet|car\n",
      "\n",
      "re.search =  <_sre.SRE_Match object; span=(0, 6), match='carpet'>\n",
      "\n",
      "re.findall =  ['carpet', 'car', 'car', 'carpet']\n",
      "\n",
      "re.finditer =\n",
      "<_sre.SRE_Match object; span=(0, 6), match='carpet'>\n",
      "<_sre.SRE_Match object; span=(11, 14), match='car'>\n",
      "<_sre.SRE_Match object; span=(19, 22), match='car'>\n",
      "<_sre.SRE_Match object; span=(33, 39), match='carpet'>\n"
     ]
    }
   ],
   "source": [
    "string = \"carpet and car and car but again carpet one harpet\"\n",
    "pattern = r'carpet|car'\n",
    "print(\"string =\", string)\n",
    "print(\"pattern=\", pattern)\n",
    "print(\"\\nre.search = \", re.search(pattern, string))\n",
    "print(\"\\nre.findall = \", re.findall(pattern, string))\n",
    "result = re.finditer(pattern, string)\n",
    "print(\"\\nre.finditer =\")\n",
    "for item in result:\n",
    "\tprint(item)"
   ]
  },
  {
   "cell_type": "code",
   "execution_count": 141,
   "metadata": {},
   "outputs": [
    {
     "name": "stdout",
     "output_type": "stream",
     "text": [
      "string = carpet and car and car but again carpet one harpet\n",
      "pattern= \\b(car|carpet)\\b\n",
      "\n",
      "re.search =  <_sre.SRE_Match object; span=(0, 6), match='carpet'>\n",
      "\n",
      "re.findall =  ['carpet', 'car', 'car', 'carpet']\n",
      "\n",
      "re.finditer =\n",
      "<_sre.SRE_Match object; span=(0, 6), match='carpet'>\n",
      "<_sre.SRE_Match object; span=(11, 14), match='car'>\n",
      "<_sre.SRE_Match object; span=(19, 22), match='car'>\n",
      "<_sre.SRE_Match object; span=(33, 39), match='carpet'>\n"
     ]
    }
   ],
   "source": [
    "string = \"carpet and car and car but again carpet one harpet\"\n",
    "pattern = r'\\b(car|carpet)\\b'\n",
    "print(\"string =\", string)\n",
    "print(\"pattern=\", pattern)\n",
    "print(\"\\nre.search = \", re.search(pattern, string))\n",
    "print(\"\\nre.findall = \", re.findall(pattern, string))\n",
    "result = re.finditer(pattern, string)\n",
    "print(\"\\nre.finditer =\")\n",
    "for item in result:\n",
    "\tprint(item)"
   ]
  },
  {
   "cell_type": "code",
   "execution_count": 142,
   "metadata": {},
   "outputs": [
    {
     "name": "stdout",
     "output_type": "stream",
     "text": [
      "string = carpet and car and car but again carpet one harpet\n",
      "pattern= \\b(carpet|car)\\b\n",
      "\n",
      "re.search =  <_sre.SRE_Match object; span=(0, 6), match='carpet'>\n",
      "\n",
      "re.findall =  ['carpet', 'car', 'car', 'carpet']\n",
      "\n",
      "re.finditer =\n",
      "<_sre.SRE_Match object; span=(0, 6), match='carpet'>\n",
      "<_sre.SRE_Match object; span=(11, 14), match='car'>\n",
      "<_sre.SRE_Match object; span=(19, 22), match='car'>\n",
      "<_sre.SRE_Match object; span=(33, 39), match='carpet'>\n"
     ]
    }
   ],
   "source": [
    "string = \"carpet and car and car but again carpet one harpet\"\n",
    "pattern = r'\\b(carpet|car)\\b'\n",
    "print(\"string =\", string)\n",
    "print(\"pattern=\", pattern)\n",
    "print(\"\\nre.search = \", re.search(pattern, string))\n",
    "print(\"\\nre.findall = \", re.findall(pattern, string))\n",
    "result = re.finditer(pattern, string)\n",
    "print(\"\\nre.finditer =\")\n",
    "for item in result:\n",
    "\tprint(item)"
   ]
  },
  {
   "cell_type": "code",
   "execution_count": 143,
   "metadata": {},
   "outputs": [
    {
     "name": "stdout",
     "output_type": "stream",
     "text": [
      "string = carpet and car and car but again carpet one harpet\n",
      "pattern= car(pet)?\n",
      "\n",
      "re.search =  <_sre.SRE_Match object; span=(0, 6), match='carpet'>\n",
      "\n",
      "re.findall =  ['pet', '', '', 'pet']\n",
      "\n",
      "re.finditer =\n",
      "<_sre.SRE_Match object; span=(0, 6), match='carpet'>\n",
      "<_sre.SRE_Match object; span=(11, 14), match='car'>\n",
      "<_sre.SRE_Match object; span=(19, 22), match='car'>\n",
      "<_sre.SRE_Match object; span=(33, 39), match='carpet'>\n"
     ]
    }
   ],
   "source": [
    "string = \"carpet and car and car but again carpet one harpet\"\n",
    "pattern = r'car(pet)?'\n",
    "print(\"string =\", string)\n",
    "print(\"pattern=\", pattern)\n",
    "print(\"\\nre.search = \", re.search(pattern, string))\n",
    "print(\"\\nre.findall = \", re.findall(pattern, string))\n",
    "result = re.finditer(pattern, string)\n",
    "print(\"\\nre.finditer =\")\n",
    "for item in result:\n",
    "\tprint(item)"
   ]
  },
  {
   "cell_type": "code",
   "execution_count": 144,
   "metadata": {},
   "outputs": [
    {
     "name": "stdout",
     "output_type": "stream",
     "text": [
      "string = carpet and car and car but again carpet one harpet\n",
      "pattern= car(?:pet)?\n",
      "\n",
      "re.search =  <_sre.SRE_Match object; span=(0, 6), match='carpet'>\n",
      "\n",
      "re.findall =  ['carpet', 'car', 'car', 'carpet']\n",
      "\n",
      "re.finditer =\n",
      "<_sre.SRE_Match object; span=(0, 6), match='carpet'>\n",
      "<_sre.SRE_Match object; span=(11, 14), match='car'>\n",
      "<_sre.SRE_Match object; span=(19, 22), match='car'>\n",
      "<_sre.SRE_Match object; span=(33, 39), match='carpet'>\n"
     ]
    }
   ],
   "source": [
    "string = \"carpet and car and car but again carpet one harpet\"\n",
    "pattern = r'car(?:pet)?'\n",
    "print(\"string =\", string)\n",
    "print(\"pattern=\", pattern)\n",
    "print(\"\\nre.search = \", re.search(pattern, string))\n",
    "print(\"\\nre.findall = \", re.findall(pattern, string))\n",
    "result = re.finditer(pattern, string)\n",
    "print(\"\\nre.finditer =\")\n",
    "for item in result:\n",
    "\tprint(item)"
   ]
  },
  {
   "cell_type": "code",
   "execution_count": 145,
   "metadata": {
    "scrolled": true
   },
   "outputs": [
    {
     "name": "stdout",
     "output_type": "stream",
     "text": [
      "\n",
      "string = First 1234.Second 5678!\n",
      "\n",
      "Pattern =  .+(\\d+)[.!]\n",
      "\n",
      "re.search =  <_sre.SRE_Match object; span=(0, 23), match='First 1234.Second 5678!'>\n",
      "\n",
      "re.findall =  ['8']\n",
      "\n",
      "re.finditer =\n",
      "<_sre.SRE_Match object; span=(0, 23), match='First 1234.Second 5678!'>\n"
     ]
    }
   ],
   "source": [
    "string = \"First 1234.Second 5678!\"\n",
    "pattern1 = r\".+(\\d+)[.!]\"\n",
    "\n",
    "print(\"\\nstring =\", string)\n",
    "print(\"\\nPattern = \",pattern1)\n",
    "print(\"\\nre.search = \", re.search(pattern1, string))\n",
    "print(\"\\nre.findall = \", re.findall(pattern1, string))\n",
    "\n",
    "result = re.finditer(pattern1, string)\n",
    "print(\"\\nre.finditer =\")\n",
    "for item in result:\n",
    "\tprint(item)"
   ]
  },
  {
   "cell_type": "code",
   "execution_count": 146,
   "metadata": {},
   "outputs": [
    {
     "name": "stdout",
     "output_type": "stream",
     "text": [
      "\n",
      "string = First 1234.Second 5678!\n",
      "\n",
      "Pattern =  .+?\\d+[.!]\n",
      "\n",
      "re.search = <_sre.SRE_Match object; span=(0, 11), match='First 1234.'>\n",
      "\n",
      "re.findall =  ['First 1234.', 'Second 5678!']\n",
      "\n",
      "re.finditer =\n",
      "<_sre.SRE_Match object; span=(0, 11), match='First 1234.'>\n",
      "<_sre.SRE_Match object; span=(11, 23), match='Second 5678!'>\n"
     ]
    }
   ],
   "source": [
    "string = \"First 1234.Second 5678!\"\n",
    "pattern2 = r\".+?\\d+[.!]\" #the ? we added after + is for lazy behaviour.\n",
    "print(\"\\nstring =\", string)\n",
    "print(\"\\nPattern = \", pattern2)\n",
    "print(\"\\nre.search =\", re.search(pattern2, string))\n",
    "print(\"\\nre.findall = \",re.findall(pattern2, string))\n",
    "result = re.finditer(pattern2, string)\n",
    "print(\"\\nre.finditer =\")\n",
    "for item in result:\n",
    "\tprint(item)"
   ]
  },
  {
   "cell_type": "code",
   "execution_count": 147,
   "metadata": {},
   "outputs": [
    {
     "name": "stdout",
     "output_type": "stream",
     "text": [
      "\n",
      "string = First 1234.Second 5678!\n",
      "\n",
      "Pattern =  (.+?)(\\d+)[.!]\n",
      "\n",
      "re.search = <_sre.SRE_Match object; span=(0, 11), match='First 1234.'>\n",
      "\n",
      "re.findall =  [('First ', '1234'), ('Second ', '5678')]\n",
      "\n",
      "re.finditer =\n",
      "<_sre.SRE_Match object; span=(0, 11), match='First 1234.'>\n",
      "<_sre.SRE_Match object; span=(11, 23), match='Second 5678!'>\n"
     ]
    }
   ],
   "source": [
    "string = \"First 1234.Second 5678!\"\n",
    "pattern3 = r\"(.+?)(\\d+)[.!]\"\n",
    "print(\"\\nstring =\", string)\n",
    "print(\"\\nPattern = \",pattern3)\n",
    "print(\"\\nre.search =\", re.search(pattern3, string))\n",
    "print(\"\\nre.findall = \",re.findall(pattern3, string))\n",
    "result = re.finditer(pattern2, string)\n",
    "print(\"\\nre.finditer =\")\n",
    "for item in result:\n",
    "\tprint(item)"
   ]
  },
  {
   "cell_type": "code",
   "execution_count": 148,
   "metadata": {},
   "outputs": [
    {
     "name": "stdout",
     "output_type": "stream",
     "text": [
      "string = First 1234.Second 5678!\n",
      "Pattern =  (:?.+?)(\\d+)[.!]\n",
      "\n",
      "re.search = <_sre.SRE_Match object; span=(0, 11), match='First 1234.'>\n",
      "\n",
      "re.findall =  [('First ', '1234'), ('Second ', '5678')]\n",
      "\n",
      "re.finditer =\n",
      "<_sre.SRE_Match object; span=(0, 11), match='First 1234.'>\n",
      "<_sre.SRE_Match object; span=(11, 23), match='Second 5678!'>\n"
     ]
    }
   ],
   "source": [
    "string = \"First 1234.Second 5678!\"\n",
    "pattern4 = r\"(:?.+?)(\\d+)[.!]\"\n",
    "print(\"string =\", string)\n",
    "print(\"Pattern = \",pattern4)\n",
    "print(\"\\nre.search =\",re.search(pattern3, string))\n",
    "print(\"\\nre.findall = \",re.findall(pattern3, string))\n",
    "result = re.finditer(pattern3, string)\n",
    "print(\"\\nre.finditer =\")\n",
    "for item in result:\n",
    "\tprint(item)"
   ]
  },
  {
   "cell_type": "code",
   "execution_count": 149,
   "metadata": {},
   "outputs": [
    {
     "name": "stdout",
     "output_type": "stream",
     "text": [
      "\n",
      "string =  20,160,175,456,444,999.50\t\ttotal and 17,456,444,888.40\ttax \n",
      "\n",
      "pattern =  \\d{2}(,\\d{3})*(.\\d{2})\n",
      "\n",
      "re.search= <_sre.SRE_Match object; span=(0, 25), match='20,160,175,456,444,999.50'>\n",
      "\n",
      "re.findall= [(',999', '.50'), (',888', '.40')]\n"
     ]
    }
   ],
   "source": [
    "string = \"20,160,175,456,444,999.50\t\ttotal and 17,456,444,888.40\ttax \"\n",
    "\n",
    "pattern = r'\\d{2}(,\\d{3})*(.\\d{2})'\n",
    "\n",
    "print(\"\\nstring = \", string)\n",
    "print(\"\\npattern = \", pattern)\n",
    "print(\"\\nre.search=\", re.search(pattern, string))\n",
    "print(\"\\nre.findall=\", re.findall(pattern, string))"
   ]
  },
  {
   "cell_type": "code",
   "execution_count": 150,
   "metadata": {},
   "outputs": [
    {
     "name": "stdout",
     "output_type": "stream",
     "text": [
      "\n",
      "string = 20,160,175,456,444,999.50\t\ttotal and 17,456,444,888.40\ttax \n",
      "\n",
      "pattern = (\\d{2})(?:,\\d{3})*(?:.\\d{2})\n",
      "\n",
      "re.search = <_sre.SRE_Match object; span=(0, 25), match='20,160,175,456,444,999.50'>\n",
      "re.findall = ['20', '17']\n"
     ]
    }
   ],
   "source": [
    "string = \"20,160,175,456,444,999.50\t\ttotal and 17,456,444,888.40\ttax \"\n",
    "\n",
    "pattern = r'(\\d{2})(?:,\\d{3})*(?:.\\d{2})'\n",
    "\n",
    "print(\"\\nstring =\", string)\n",
    "print(\"\\npattern =\", pattern)\n",
    "print(\"\\nre.search =\", re.search(pattern, string))\n",
    "print(\"re.findall =\", re.findall(pattern, string))"
   ]
  },
  {
   "cell_type": "code",
   "execution_count": 151,
   "metadata": {},
   "outputs": [
    {
     "name": "stdout",
     "output_type": "stream",
     "text": [
      "\n",
      "string = 20,160,175,456,444,999.50\t\ttotal and 17,456,444,888.40\ttax \n",
      "\n",
      "pattern = \\d{2}(?:,\\d{3})*(?:.\\d{2})\n",
      "\n",
      "re.search = <_sre.SRE_Match object; span=(0, 25), match='20,160,175,456,444,999.50'>\n",
      "\n",
      "re.findall = ['20,160,175,456,444,999.50', '17,456,444,888.40']\n"
     ]
    }
   ],
   "source": [
    "string = \"20,160,175,456,444,999.50\t\ttotal and 17,456,444,888.40\ttax \"\n",
    "\n",
    "pattern = r'\\d{2}(?:,\\d{3})*(?:.\\d{2})'\n",
    "\n",
    "print(\"\\nstring =\", string)\n",
    "print(\"\\npattern =\", pattern)\n",
    "print(\"\\nre.search =\", re.search(pattern, string))\n",
    "print(\"\\nre.findall =\", re.findall(pattern, string))"
   ]
  },
  {
   "cell_type": "code",
   "execution_count": 152,
   "metadata": {},
   "outputs": [
    {
     "name": "stdout",
     "output_type": "stream",
     "text": [
      "\n",
      "string = 20,160,175,456,444,999.50\t\ttotal and 17,456,444,888.40\ttax \n",
      "\n",
      "pattern = (?:\\d{2})(?:,\\d{3})*(?:.\\d{2})\n",
      "\n",
      "re.search = <_sre.SRE_Match object; span=(0, 25), match='20,160,175,456,444,999.50'>\n",
      "\n",
      "re.findall = ['20,160,175,456,444,999.50', '17,456,444,888.40']\n"
     ]
    }
   ],
   "source": [
    "string = \"20,160,175,456,444,999.50\t\ttotal and 17,456,444,888.40\ttax \"\n",
    "\n",
    "pattern = r'(?:\\d{2})(?:,\\d{3})*(?:.\\d{2})'\n",
    "\n",
    "\n",
    "print(\"\\nstring =\", string)\n",
    "print(\"\\npattern =\", pattern)\n",
    "print(\"\\nre.search =\", re.search(pattern, string))\n",
    "print(\"\\nre.findall =\", re.findall(pattern, string))"
   ]
  },
  {
   "cell_type": "markdown",
   "metadata": {},
   "source": [
    "\n"
   ]
  },
  {
   "cell_type": "code",
   "execution_count": 153,
   "metadata": {},
   "outputs": [
    {
     "name": "stdout",
     "output_type": "stream",
     "text": [
      "Pattern \\d+\n",
      "***Match. Text: 1234 Index: 0 Length: 4\n",
      "***No Match. Text ABCD1234\n"
     ]
    }
   ],
   "source": [
    "def validation_example_one ():\n",
    "    # Purpose: Verify if the given text is made up of digits\n",
    "    pattern = r\"\\d+\"\n",
    "    # r for raw\n",
    "    # \\d for digit \n",
    "    # + means minimum one digit or more   \n",
    "\n",
    "\n",
    "    # successful match\n",
    "    text = \"1234\"\n",
    "    match = re.match(pattern, text)\n",
    "    \n",
    "    print ('Pattern {0}'.format(pattern))\n",
    "    \n",
    "    if match:\n",
    "        print ('***Match. Text: {0} Index: {1} Length: {2}'.format(\n",
    "                text, match.start(),len(match.group(0))))\n",
    "    else:\n",
    "        print ('***No Match. Text {0}'.format(text))\n",
    "        \n",
    "\n",
    "        \n",
    "    # no match\n",
    "    text =  \"ABCD1234\"\n",
    "    match = re.match(pattern, text)\n",
    "    \n",
    "    if match:\n",
    "        print ('***Match. Text: {0} Index: {1} Length: {2}'.format(\n",
    "                text, match.start(),len(match.group(0))))\n",
    "    else:\n",
    "        print ('***No Match. Text {0}'.format(text))\n",
    "\n",
    "        \n",
    "validation_example_one()"
   ]
  },
  {
   "cell_type": "code",
   "execution_count": 154,
   "metadata": {},
   "outputs": [
    {
     "name": "stdout",
     "output_type": "stream",
     "text": [
      "Pattern \\d+\n",
      "***Match. Text: 1234 Index: 0 Length: 4\n",
      "***Match. Text: ABCD1234 Index: 4 Length: 4\n",
      "***No Match. Text Hello World!\n"
     ]
    }
   ],
   "source": [
    "def validation_example_two ():\n",
    "    # Purpose: Verify if the given text is made up of digits\n",
    "    pattern = r\"\\d+\"\n",
    "   \n",
    "    # successful match\n",
    "    text = \"1234\"\n",
    "    match = re.search(pattern, text)\n",
    "    \n",
    "    print ('Pattern {0}'.format(pattern))\n",
    "    \n",
    "    if match:\n",
    "        print ('***Match. Text: {0} Index: {1} Length: {2}'.format(\n",
    "               text, match.start(),len(match.group(0))))\n",
    "    else:\n",
    "        print ('***No Match. Text {0}'.format(text))\n",
    "\n",
    "    # successful match\n",
    "    text = \"ABCD1234\"\n",
    "    match = re.search(pattern, text)\n",
    "    \n",
    "    if match:\n",
    "        print ('***Match. Text: {0} Index: {1} Length: {2}'.format(\n",
    "                text, match.start(),len(match.group(0))))\n",
    "    else:\n",
    "        print ('***No Match. Text {0}'.format(text))\n",
    "        \n",
    "        \n",
    "    # no match\n",
    "    text =  \"Hello World!\"\n",
    "    match = re.search(pattern, text)\n",
    "    \n",
    "    if match:\n",
    "        print ('***Match. Text: {0} Index: {1} Length: {2}'.format(\n",
    "                text, match.start(),len(match.group(0))))\n",
    "    else:\n",
    "        print ('***No Match. Text {0}'.format(text))\n",
    "\n",
    "        \n",
    "        \n",
    "        \n",
    "validation_example_two()"
   ]
  },
  {
   "cell_type": "code",
   "execution_count": 155,
   "metadata": {},
   "outputs": [
    {
     "name": "stdout",
     "output_type": "stream",
     "text": [
      "Pattern ^\\d+$\n",
      "***Match. Text: 123456 Index: 0 Length: 6\n",
      "***Match. Text: 456 Index: 0 Length: 3\n",
      "***Match. Text: 321082 Index: 0 Length: 6\n",
      "***Match. Text: 0820102 Index: 0 Length: 7\n",
      "***No Match. Text ABCD\n",
      "***No Match. Text A1234\n",
      "***No Match. Text 1234AB\n",
      "***No Match. Text   123\n",
      "***No Match. Text 321  \n",
      "***No Match. Text   111   \n",
      "***No Match. Text 123 4567\n",
      "***No Match. Text 123\n",
      "456\n",
      "***No Match. Text 123\t789\n"
     ]
    }
   ],
   "source": [
    "def validation_example_three ():\n",
    "    # Purpose: Verify if the given text is made up of digits\n",
    "    pattern = r\"^\\d+$\"\n",
    "    # ^ start if string or line\n",
    "    # \\d means digit\n",
    "    # minimum one digit or more\n",
    "    # $ end of line or string\n",
    "        \n",
    "    \n",
    "    positiveTest = [\"123456\", \"456\", \"321082\", \"0820102\"]\n",
    "    negativeTest = [\"ABCD\", \"A1234\", \"1234AB\", \"  123\", \"321  \", \"  111   \", \"123 4567\", \"123\\n456\", \"123\\t789\"]\n",
    "\n",
    "    print ('Pattern {0}'.format(pattern))\n",
    "    \n",
    "    for text in positiveTest:\n",
    "        match = re.search(pattern, text)    \n",
    "        if match:\n",
    "            print ('***Match. Text: {0} Index: {1} Length: {2}'.format(\n",
    "                    text, match.start(),len(match.group(0))))\n",
    "        else:\n",
    "            print ('***No Match. Text {0}'.format(text))\n",
    "            raise ValueError('Positive Test. Expected successful match but failed {0}'.format(text))\n",
    "        \n",
    "        \n",
    "    for text in negativeTest:\n",
    "        match = re.search(pattern, text)\n",
    "        if match:\n",
    "            print ('***Match. Text: {0} Index: {1} Length: {2}'.format(\n",
    "                    text, match.start(),len(match.group(0))))\n",
    "            raise ValueError('Negative Test. Expected a failed match but succeeded. {0}'.format(text))\n",
    "        else:\n",
    "            print ('***No Match. Text {0}'.format(text))\n",
    "            \n",
    "            \n",
    "            \n",
    "validation_example_three()        "
   ]
  },
  {
   "cell_type": "markdown",
   "metadata": {},
   "source": [
    "<left><font color=pink,size=10>__Note: Understanding  \\b , \\w ANCHOR__</font></left>"
   ]
  },
  {
   "cell_type": "markdown",
   "metadata": {},
   "source": [
    "__\\w__ called as \"word character\" which includes <font color=red>[0-9_a-zA-Z]</font> and Unicode word characters .<br> \n",
    " \n",
    "__What is Unicode word characters?__\n",
    "http://www.unicode.org/Public/9.0.0/ucd/UnicodeData.txt or http://www.unicode.org/Public/12.0.0/ucd/UnicodeData-12.0.0d6.txt \n",
    "\n",
    "A \"word character\" is a character that can be used to form words. All characters that are not \"word characters\" are \"non-word characters\".<br><br>\n",
    "\n",
    "\n",
    "__\\b__ called as \"on word boundry\". <br> \n",
    "Exactly which characters are word characters depends on the regex flavor you're working with. In most flavors, characters that are matched by the \\w are the characters that are treated as word characters by word boundaries. underscore is exception. "
   ]
  },
  {
   "cell_type": "code",
   "execution_count": 156,
   "metadata": {},
   "outputs": [
    {
     "name": "stdout",
     "output_type": "stream",
     "text": [
      "33 !\n",
      "34 \"\n",
      "35 #\n",
      "36 $\n",
      "37 %\n"
     ]
    }
   ],
   "source": [
    "# In Python2 there was function called as unichr to print unicode character , but in python 3 just say chr( ) to get unicode value.\n",
    "\n",
    "for i in range(33,38):\n",
    "    s = chr(i)\n",
    "    print(i,s)"
   ]
  },
  {
   "cell_type": "code",
   "execution_count": 157,
   "metadata": {},
   "outputs": [
    {
     "name": "stdout",
     "output_type": "stream",
     "text": [
      "None\n"
     ]
    }
   ],
   "source": [
    "string = 'This_island_is_beautiful.'\n",
    "pattern = r\"\\bis\\b\"\n",
    "result = re.search(pattern, string)\n",
    "print(result)"
   ]
  },
  {
   "cell_type": "code",
   "execution_count": 158,
   "metadata": {},
   "outputs": [
    {
     "name": "stdout",
     "output_type": "stream",
     "text": [
      "None\n"
     ]
    }
   ],
   "source": [
    "string = 'This island is_ beautiful.'\n",
    "pattern = r\"\\bis\\b\"\n",
    "result = re.search(pattern, string)\n",
    "print(result)"
   ]
  },
  {
   "cell_type": "code",
   "execution_count": 159,
   "metadata": {},
   "outputs": [
    {
     "name": "stdout",
     "output_type": "stream",
     "text": [
      "None\n"
     ]
    }
   ],
   "source": [
    "string = 'This island is9 beautiful.'\n",
    "pattern = r\"\\bis\\b\"\n",
    "result = re.search(pattern, string)\n",
    "print(result)"
   ]
  },
  {
   "cell_type": "code",
   "execution_count": 160,
   "metadata": {},
   "outputs": [
    {
     "name": "stdout",
     "output_type": "stream",
     "text": [
      "<_sre.SRE_Match object; span=(12, 14), match='is'>\n"
     ]
    }
   ],
   "source": [
    "string = \"This island is%beautiful\"\n",
    "pattern = r\"\\bis\\b\"\n",
    "result = re.search(pattern, string)\n",
    "print(result)"
   ]
  },
  {
   "cell_type": "code",
   "execution_count": 161,
   "metadata": {},
   "outputs": [
    {
     "name": "stdout",
     "output_type": "stream",
     "text": [
      "<_sre.SRE_Match object; span=(14, 16), match='is'>\n"
     ]
    }
   ],
   "source": [
    "string = \"This, island, is, beautiful.\"\n",
    "pattern = r\"\\bis\\b\"\n",
    "result = re.search(pattern, string)\n",
    "print(result)"
   ]
  },
  {
   "cell_type": "code",
   "execution_count": 162,
   "metadata": {},
   "outputs": [
    {
     "name": "stdout",
     "output_type": "stream",
     "text": [
      "<_sre.SRE_Match object; span=(13, 15), match='is'>\n"
     ]
    }
   ],
   "source": [
    "string = \"This island 'is' beautiful.\"\n",
    "pattern = r\"\\bis\\b\"\n",
    "result = re.search(pattern, string)\n",
    "print(result)"
   ]
  },
  {
   "cell_type": "code",
   "execution_count": 163,
   "metadata": {},
   "outputs": [
    {
     "name": "stdout",
     "output_type": "stream",
     "text": [
      "<_sre.SRE_Match object; span=(13, 15), match='is'>\n"
     ]
    }
   ],
   "source": [
    "string = 'This island \"is\" beautiful.'\n",
    "pattern = r\"\\bis\\b\"\n",
    "result = re.search(pattern, string)\n",
    "print(result)"
   ]
  },
  {
   "cell_type": "code",
   "execution_count": 164,
   "metadata": {},
   "outputs": [
    {
     "name": "stdout",
     "output_type": "stream",
     "text": [
      "<_sre.SRE_Match object; span=(13, 15), match='is'>\n"
     ]
    }
   ],
   "source": [
    "string = 'This island @is beautiful.'\n",
    "pattern = r\"\\bis\\b\"\n",
    "result = re.search(pattern, string)\n",
    "print(result)"
   ]
  },
  {
   "cell_type": "code",
   "execution_count": 165,
   "metadata": {},
   "outputs": [
    {
     "name": "stdout",
     "output_type": "stream",
     "text": [
      "<_sre.SRE_Match object; span=(12, 14), match='is'>\n"
     ]
    }
   ],
   "source": [
    "string = 'This island is: beautiful.'\n",
    "pattern = r\"\\bis\\b\"\n",
    "result = re.search(pattern, string)\n",
    "print(result)"
   ]
  },
  {
   "cell_type": "code",
   "execution_count": 166,
   "metadata": {},
   "outputs": [
    {
     "name": "stdout",
     "output_type": "stream",
     "text": [
      "<_sre.SRE_Match object; span=(12, 14), match='is'>\n"
     ]
    }
   ],
   "source": [
    "string = 'This island is> beautiful.'\n",
    "pattern = r\"\\bis\\b\"\n",
    "result = re.search(pattern, string)\n",
    "print(result)"
   ]
  },
  {
   "cell_type": "code",
   "execution_count": 167,
   "metadata": {},
   "outputs": [
    {
     "name": "stdout",
     "output_type": "stream",
     "text": [
      "<_sre.SRE_Match object; span=(13, 15), match='is'>\n"
     ]
    }
   ],
   "source": [
    "string = 'This island <is> beautiful.'\n",
    "pattern = r\"\\bis\\b\"\n",
    "result = re.search(pattern, string)\n",
    "print(result)"
   ]
  },
  {
   "cell_type": "code",
   "execution_count": 168,
   "metadata": {},
   "outputs": [
    {
     "name": "stdout",
     "output_type": "stream",
     "text": [
      "<_sre.SRE_Match object; span=(12, 14), match='is'>\n"
     ]
    }
   ],
   "source": [
    "string = 'This:island:is:beautiful.'\n",
    "pattern = r\"\\bis\\b\"\n",
    "result = re.search(pattern, string)\n",
    "print(result)"
   ]
  },
  {
   "cell_type": "code",
   "execution_count": 169,
   "metadata": {},
   "outputs": [
    {
     "name": "stdout",
     "output_type": "stream",
     "text": [
      "Pattern \\b\\d{5}\\b\n",
      "['10001', '10002', '10003', '10004']\n"
     ]
    }
   ],
   "source": [
    "def find_all_example():\n",
    "    # Purpose: Extract 5 digit postal codes\n",
    "    pattern = r\"\\b\\d{5}\\b\"\n",
    "    # \\b word boundry\n",
    "    # \\d{5} 5 digits\n",
    "    # \\b word boundry\n",
    "     \n",
    "    \n",
    "    text = \"NY Postal Codes are 10001, 10002, 10003, 10004\"\n",
    "            \n",
    "    print ('Pattern {0}'.format(pattern))\n",
    "    # successful match\n",
    "    match = re.findall(pattern, text)\n",
    "    print (match)\n",
    "find_all_example()"
   ]
  },
  {
   "cell_type": "code",
   "execution_count": 170,
   "metadata": {},
   "outputs": [
    {
     "name": "stdout",
     "output_type": "stream",
     "text": [
      "Pattern \\b\\d{5}\\b\n",
      "Text NY Postal Codes are 10001, 10002, 10003, 10004\n",
      "***Match. Text: 10001 Index: 20 Length: 5\n",
      "<_sre.SRE_Match object; span=(20, 25), match='10001'>\n",
      "match_end= 25\n",
      "***Match. Text: 10002 Index: 27 Length: 5\n",
      "<_sre.SRE_Match object; span=(27, 32), match='10002'>\n",
      "match_end= 32\n",
      "***Match. Text: 10003 Index: 34 Length: 5\n",
      "<_sre.SRE_Match object; span=(34, 39), match='10003'>\n",
      "match_end= 39\n",
      "***Match. Text: 10004 Index: 41 Length: 5\n",
      "<_sre.SRE_Match object; span=(41, 46), match='10004'>\n",
      "match_end= 46\n"
     ]
    }
   ],
   "source": [
    "def find_iter_example():\n",
    "    pattern = r\"\\b\\d{5}\\b\"\n",
    "    text = \"NY Postal Codes are 10001, 10002, 10003, 10004\"\n",
    "            \n",
    "    print ('Pattern {0}'.format(pattern))\n",
    "    print ('Text {0}'.format(text))\n",
    "    # successful match\n",
    "    match_iter = re.finditer(pattern, text)\n",
    "    for match in match_iter:\n",
    "        print ('***Match. Text: {0} Index: {1} Length: {2}'.format(\n",
    "                match.group(0), match.start(),len(match.group(0))))\n",
    "        print(match)\n",
    "        print(\"match_end=\", match.end())\n",
    "\n",
    "\n",
    "find_iter_example()"
   ]
  },
  {
   "cell_type": "code",
   "execution_count": 171,
   "metadata": {},
   "outputs": [
    {
     "name": "stdout",
     "output_type": "stream",
     "text": [
      "Pattern (?P<year>\\d{4})(?P<month>\\d{2})(?P<day>\\d{2})(?P<hour>\\d{2})?\n",
      "Text Timestamp=20160502\n",
      "Match. Text: 20160502 Index: 10 Length: 8\n",
      "Access group by name\n",
      "  Year:  2016\n",
      "  Month: 05\n",
      "  Day:   02\n",
      "  Hour:  None\n",
      "Access all named groups as a dictionary\n",
      "   {'year': '2016', 'month': '05', 'day': '02', 'hour': None}\n"
     ]
    }
   ],
   "source": [
    "def group_by_name_example():\n",
    "    pattern = r\"(?P<year>\\d{4})(?P<month>\\d{2})(?P<day>\\d{2})(?P<hour>\\d{2})?\"\n",
    "    #Group1  : (?P<year>\\d{4})  :   ?P<year> group syntax,     \\d{4} 4 digits\n",
    "    #Group2  : (?P<month>\\d{2}) :   ?P<month> group syntax,    \\d{2} 2 digits\n",
    "    #Group3  : (?P<day>\\d{2})   :   ?<day> group syntax,       \\d{2} 2 digits\n",
    "    #Grpup4? : (?P<hour>\\d{2})? :   ?<hpur> group syntax,      \\d{2} 2 digits     ? making Group4 optional.\n",
    "    \n",
    "    text = \"Timestamp=20160502\"\n",
    "   \n",
    "\n",
    "    print ('Pattern {0}'.format(pattern)) \n",
    "    print ('Text {0}'.format(text))\n",
    "    # successful match\n",
    "    match_iter = re.finditer(pattern, text)\n",
    "    \n",
    "    for match in match_iter:\n",
    "        print ('Match. Text: {0} Index: {1} Length: {2}'.format(\n",
    "                match.group(0), match.start(),len(match.group(0))))\n",
    "        \n",
    "        print ('Access group by name')\n",
    "        print ('  Year:  {0}'.format(match.group('year')))\n",
    "        print ('  Month: {0}'.format(match.group('month')))\n",
    "        print ('  Day:   {0}'.format(match.group('day')))    \n",
    "        print ('  Hour:  {0}'.format(match.group('hour')))          \n",
    "        print ('Access all named groups as a dictionary')\n",
    "        print ('   {0}'.format(match.groupdict()))\n",
    "\n",
    "        \n",
    "        \n",
    "group_by_name_example()"
   ]
  },
  {
   "cell_type": "code",
   "execution_count": 172,
   "metadata": {},
   "outputs": [
    {
     "name": "stdout",
     "output_type": "stream",
     "text": [
      "Pattern (\\d{4})(\\d{2})(\\d{2})(\\d{2})?\n",
      "Text Timestamp=20160502\n",
      "Match. Text: 20160502 Index: 10 Length: 8\n",
      "  Group: 1, Value: 2016\n",
      "  Group: 2, Value: 05\n",
      "  Group: 3, Value: 02\n",
      "  Group: 4, Value: None\n"
     ]
    }
   ],
   "source": [
    "def group_by_number_example():\n",
    "    # Optional last two digits\n",
    "    pattern = r\"(\\d{4})(\\d{2})(\\d{2})(\\d{2})?\"\n",
    "    text = \"Timestamp=20160502\"\n",
    "            \n",
    "    print ('Pattern {0}'.format(pattern))\n",
    "    print ('Text {0}'.format(text))\n",
    "    # successful match\n",
    "    match_iter = re.finditer(pattern, text)\n",
    "    \n",
    "    for match in match_iter:\n",
    "        print ('Match. Text: {0} Index: {1} Length: {2}'.format(\n",
    "                match.group(0), match.start(),len(match.group(0))))\n",
    "        \n",
    "        for i,value in enumerate(match.groups()):\n",
    "            print('  Group: {0}, Value: {1}'.format(i+1,value))\n",
    "\n",
    "            \n",
    "group_by_number_example()"
   ]
  },
  {
   "cell_type": "code",
   "execution_count": 173,
   "metadata": {},
   "outputs": [
    {
     "name": "stdout",
     "output_type": "stream",
     "text": [
      "ring eating ring ring singing\n"
     ]
    }
   ],
   "source": [
    "# re.sub(pattern, replacement_pattern, text)\n",
    "\n",
    "# An example string.\n",
    "string = \"running eating reading ring singing\"\n",
    "\n",
    "# Replace words starting with \"r\" and ending in \"ing\"\n",
    "# ... with a new string.\n",
    "result = re.sub(r\"r.*?ing\", \"ring\", string)\n",
    "print(result)"
   ]
  },
  {
   "cell_type": "code",
   "execution_count": 174,
   "metadata": {},
   "outputs": [
    {
     "name": "stdout",
     "output_type": "stream",
     "text": [
      "laughing eating sleeping thinking\n"
     ]
    }
   ],
   "source": [
    "input = \"laugh eat sleep think\"\n",
    "\n",
    "# Use lambda to add \"ing\" to all words.\n",
    "result = re.sub(r\"\\w+\", lambda obj_of_matched_pattern: obj_of_matched_pattern.group(0) + \"ing\", input)\n",
    "\n",
    "# Display result.\n",
    "print(result)"
   ]
  },
  {
   "cell_type": "code",
   "execution_count": 175,
   "metadata": {},
   "outputs": [
    {
     "name": "stdout",
     "output_type": "stream",
     "text": [
      "20 40 60 80 100\n"
     ]
    }
   ],
   "source": [
    "def multiply(obj_of_matched_pattern):\n",
    "    # Convert group 0 to an integer.\n",
    "    current_value_of_obj = int(obj_of_matched_pattern.group(0))\n",
    "    # Multiply integer by 2 , Convert back into string and return it.\n",
    "    return str(current_value_of_obj * 2)\n",
    "\n",
    "# Use pattern of 1 or more digits.\n",
    "# Use multiply method as second argument.\n",
    "result = re.sub(r\"\\d+\", multiply, \"10 20 30 40 50\")\n",
    "print(result)\n"
   ]
  },
  {
   "cell_type": "code",
   "execution_count": 176,
   "metadata": {},
   "outputs": [
    {
     "name": "stdout",
     "output_type": "stream",
     "text": [
      "20 40 60 80 100\n",
      "Number of replacement made =  5\n"
     ]
    }
   ],
   "source": [
    "def multiply(obj_of_matched_pattern):\n",
    "    # Convert group 0 to an integer.\n",
    "    current_value_of_obj = int(obj_of_matched_pattern.group(0))\n",
    "    # Multiply integer by 2 , Convert back into string and return it.\n",
    "    return str(current_value_of_obj * 2)\n",
    "\n",
    "# Use pattern of 1 or more digits.\n",
    "# Use multiply method as second argument.\n",
    "result = re.subn(r\"\\d+\", multiply, \"10 20 30 40 50\")\n",
    "print(result[0])\n",
    "print(\"Number of replacement made = \", result[1])"
   ]
  },
  {
   "cell_type": "code",
   "execution_count": 177,
   "metadata": {},
   "outputs": [
    {
     "name": "stdout",
     "output_type": "stream",
     "text": [
      "bird rose dog fish oak\n"
     ]
    }
   ],
   "source": [
    "string = \"bird flower dog fish tree\"\n",
    "mydict = {\"flower\": \"rose\", \"tree\": \"oak\", \"grass\": \"wild\"}\n",
    "pattern = r\"\\w+\"\n",
    "\n",
    "def modify(obj_of_matched_pattern):\n",
    "    current_value_of_obj = obj_of_matched_pattern.group(0)\n",
    "\n",
    "    # If string is in dictionary, return different string.\n",
    "    if current_value_of_obj in mydict:\n",
    "        return mydict[current_value_of_obj]\n",
    "\n",
    "    # Do not change anything.\n",
    "    return current_value_of_obj\n",
    "\n",
    "# Modify to remove all strings within the dictionary.\n",
    "result = re.sub(pattern, modify, string)\n",
    "\n",
    "print(result)"
   ]
  },
  {
   "cell_type": "code",
   "execution_count": 178,
   "metadata": {},
   "outputs": [
    {
     "name": "stdout",
     "output_type": "stream",
     "text": [
      "\n",
      "Pattern -----------> (?P<celsius>\\d+)\\u00B0C\n",
      "\n",
      "Text before--------> Today's temperature is 49°C\n",
      "\n",
      "Text after---------> Today's temperature is 120.2°F\n"
     ]
    }
   ],
   "source": [
    "def celsius_to_fahrenheit(obj_of_matched_pattern):\n",
    "    degCelsius =  float(obj_of_matched_pattern.group(\"celsius\"))\n",
    "    degF = 32.0 + (degCelsius * 9.0 / 5.0);\n",
    "    return '{0}°F'.format(degF);\n",
    "\n",
    "\n",
    "def substitution_example_custom_logic():\n",
    "    pattern = r\"(?P<celsius>\\d+)\\u00B0C\"\n",
    "    text = \"Today's temperature is 49°C\"\n",
    "\n",
    "    \n",
    "    new_text = re.sub(pattern, celsius_to_fahrenheit, text)\n",
    "    \n",
    "    print('\\nPattern -----------> {0}'.format(pattern))\n",
    "    print('\\nText before--------> {0}'.format(text))\n",
    "    print('\\nText after---------> {0}'.format(new_text))\n",
    "\n",
    "    \n",
    "substitution_example_custom_logic()"
   ]
  },
  {
   "cell_type": "code",
   "execution_count": 179,
   "metadata": {},
   "outputs": [
    {
     "name": "stdout",
     "output_type": "stream",
     "text": [
      "Pattern  ------------------> (?P<value>\\d+(,\\d{3})*(\\.\\d{2})?)\\s+dollar(s)?\n",
      "\n",
      "Replacement Pattern -------> **USD \\g<value>**\n",
      "\n",
      "Orignal Text --------------> cost: 12,000.56 dollars             Taxes: 234.00 dollar             Total: 12,234.56 dollars\n",
      "\n",
      "New Text     --------------> cost: **USD 12,000.56**             Taxes: **USD 234.00**             Total: **USD 12,234.56**\n"
     ]
    }
   ],
   "source": [
    "def substitution_example():\n",
    "    pattern = r\"(?P<value>\\d+(,\\d{3})*(\\.\\d{2})?)\\s+dollar(s)?\"\n",
    "    # (?P<value>\\d+(,\\d{3})*(\\.\\d{2})?) :\n",
    "    ##### ?P<value>   : group syntax\n",
    "    ##### \\d          : digit\n",
    "    ##### +           : above digit occur mimimum once and max any digits\n",
    "    ##### (,\\d{3})*   : ( start of group then comma then 3 digits occurs minimum zero times and max any number of times\n",
    "    ##### (\\.\\d{2})?  : \\ backslash eascape character then . then 2 digits and ? makeing it all optional\n",
    "    # \\s+dollar(s)?   : \\s for space + means space occur once or more then dollor (s) for dollors\n",
    "        \n",
    "    replacement_pattern = r'**USD \\g<value>**'\n",
    "    # **USD simple text to insert \n",
    "    # then \\g<value>\n",
    "    # ** simple text\n",
    "    \n",
    "    text = \"cost: 12,000.56 dollars \\\n",
    "            Taxes: 234.00 dollar \\\n",
    "            Total: 12,234.56 dollars\"\n",
    "    \n",
    "    # successful match\n",
    "    new_text = re.sub(pattern, replacement_pattern, text)\n",
    "    \n",
    "    \n",
    "    print ('Pattern  ------------------> {0}'.format(pattern))\n",
    "    \n",
    "    print ('\\nReplacement Pattern -------> {0}'.format(replacement_pattern))\n",
    "    \n",
    "    print ('\\nOrignal Text --------------> {0}'.format(text))\n",
    "    \n",
    "    print('\\nNew Text     --------------> {0}'.format(new_text))\n",
    "\n",
    "\n",
    "    \n",
    "substitution_example()"
   ]
  },
  {
   "cell_type": "code",
   "execution_count": 180,
   "metadata": {},
   "outputs": [
    {
     "name": "stdout",
     "output_type": "stream",
     "text": [
      "['', '1', '2', '3']\n"
     ]
    }
   ],
   "source": [
    "# Input string.\n",
    "string = \"one 1 two 2 three 3\"\n",
    "\n",
    "# Separate on one or more non-digit characters.\n",
    "print(re.split(r\"\\D+\", string))"
   ]
  },
  {
   "cell_type": "code",
   "execution_count": 181,
   "metadata": {},
   "outputs": [
    {
     "name": "stdout",
     "output_type": "stream",
     "text": [
      "['one', 'two', '3.4', '5,6', 'seven', 'eight', 'nine', 'ten']\n"
     ]
    }
   ],
   "source": [
    "string = \"one two 3.4 5,6 seven.eight nine,ten\"\n",
    "# we need output \n",
    "# ['one', 'two', '3.4', '5,6', 'seven', 'eight', 'nine', 'ten']\n",
    "\n",
    "\n",
    "print(re.split(r\"\\s|(?<!\\d)[,.](?!\\d)\", string))"
   ]
  },
  {
   "cell_type": "code",
   "execution_count": 182,
   "metadata": {},
   "outputs": [
    {
     "name": "stdout",
     "output_type": "stream",
     "text": [
      "['amitsuneja', 'rediffmail.com , amitsuneja', 'gmail.com, amitsuneja.007', 'gmail.com, amit.veritas', 'gov.co.in']\n"
     ]
    }
   ],
   "source": [
    "email_ids = \"amitsuneja@rediffmail.com , amitsuneja@gmail.com, amitsuneja.007@gmail.com, amit.veritas@gov.co.in\"\n",
    "\n",
    "result = re.split(r\"@\", email_ids)\n",
    "print(result)"
   ]
  },
  {
   "cell_type": "code",
   "execution_count": 183,
   "metadata": {},
   "outputs": [
    {
     "name": "stdout",
     "output_type": "stream",
     "text": [
      "Pattern: \\d+\\.\\s*\n",
      "Text Before: Here is the list...1.soccer  2. tennis 3.basketball 4.\t\tcricket\n",
      "Text after:\n",
      "  Here is the list...\n",
      "  soccer  \n",
      "  tennis \n",
      "  basketball \n",
      "  cricket\n"
     ]
    }
   ],
   "source": [
    "def split_example():\n",
    "    pattern = r\"\\d+\\.\\s*\" \n",
    "    # \\d -> digit\n",
    "    # +  -> 1 or more of that digit\n",
    "    # \\. -> then a dot \n",
    "    # \\s -> space\n",
    "    # * -> zero or more occurence of that space\n",
    "    \n",
    "    text = 'Here is the list...1.soccer  2. tennis 3.basketball 4.\\t\\tcricket'\n",
    "    split_text = re.split(pattern, text)\n",
    "    \n",
    "    print ('Pattern: {0}'.format(pattern))\n",
    "    print ('Text Before: {0}'.format(text))\n",
    "    \n",
    "    \n",
    "    print('Text after:')\n",
    "    for s in split_text:\n",
    "        print('  {0}'.format(s))\n",
    "split_example()"
   ]
  },
  {
   "cell_type": "code",
   "execution_count": 184,
   "metadata": {},
   "outputs": [
    {
     "name": "stdout",
     "output_type": "stream",
     "text": [
      "['d', 'D', 'd']\n",
      "cost: 12,000.56 XXXollars Taxes: 234.00 XXXollar Total: 12,234.56 XXXollars\n"
     ]
    }
   ],
   "source": [
    "string = \"cost: 12,000.56 dollars Taxes: 234.00 Dollar Total: 12,234.56 dollars\"\n",
    "\n",
    "print(re.findall(r'd', string, re.IGNORECASE))\n",
    "print(re.sub(r'd', r'XXX', string, flags=re.IGNORECASE))"
   ]
  },
  {
   "cell_type": "code",
   "execution_count": 185,
   "metadata": {},
   "outputs": [
    {
     "name": "stdout",
     "output_type": "stream",
     "text": [
      "<_sre.SRE_Match object; span=(8, 11), match='big'>\n",
      "['i', 'i', 'b', 'i', 'g', 'g', 'i']\n",
      "['i', 'i', 'b', 'i', 'g', 'g', 'i']\n"
     ]
    }
   ],
   "source": [
    "string = \"this is biggest test in class\"\n",
    "\n",
    "print(re.search(r'big', string))\n",
    "print(re.findall(r'[big]', string))\n",
    "print(re.findall(r'b|i|g', string))"
   ]
  },
  {
   "cell_type": "code",
   "execution_count": 186,
   "metadata": {},
   "outputs": [
    {
     "name": "stdout",
     "output_type": "stream",
     "text": [
      "['t', 'h', 's', ' ', 's', ' ', 'b', 'g', 'g', 's', 't', ' ', 't', 's', 't', ' ', 'n', ' ', 'c', 'l', 's', 's']\n",
      "['i', 'i', 'i', 'e', 'e', 'i', 'a']\n"
     ]
    }
   ],
   "source": [
    "# Question : find characters which are not vowels.\n",
    "\n",
    "string = \"this is biggest test in class\"\n",
    "\n",
    "pattern= r'[^aeiou]'\n",
    "print(re.findall(pattern, string))\n",
    "\n",
    "pattern= r'[a^eiou]'\n",
    "print(re.findall(pattern, string))"
   ]
  },
  {
   "cell_type": "code",
   "execution_count": 187,
   "metadata": {},
   "outputs": [
    {
     "name": "stdout",
     "output_type": "stream",
     "text": [
      "['b', 'c', 'a', '1', '2', '3', '4', '5']\n",
      "['t', 'h', 'i', 's', ' ', 'i', 's', ' ', 'i', 'g', 'g', 'e', 's', 't', ' ', 't', 'e', 's', 't', ' ', 'i', 'n', ' ', 'l', 's', 's', ' ', ' ', '6', ' ', '7', '8', '9', '0']\n"
     ]
    }
   ],
   "source": [
    "string = \"this is biggest test in class 123 456 7890\"\n",
    "\n",
    "pattern = r'[a-c1-5]'\n",
    "print(re.findall(pattern, string))\n",
    "\n",
    "pattern = r'[^a-c1-5]'\n",
    "print(re.findall(pattern, string))"
   ]
  },
  {
   "cell_type": "code",
   "execution_count": 188,
   "metadata": {},
   "outputs": [],
   "source": [
    "# . matches all the character except the new line\n",
    "# if you want to typically mention . then use \\. or [.]\n"
   ]
  },
  {
   "cell_type": "code",
   "execution_count": 189,
   "metadata": {},
   "outputs": [
    {
     "name": "stdout",
     "output_type": "stream",
     "text": [
      "apple of line1\n",
      "apple of line2\n",
      "apple of line3\n",
      "['apple']\n",
      "['apple', 'apple', 'apple']\n"
     ]
    }
   ],
   "source": [
    "\"\"\"\n",
    "re.MULTILINE example\n",
    "\"\"\"\n",
    "mutiline_string = \"\"\"apple of line1\n",
    "apple of line2\n",
    "apple of line3\"\"\"\n",
    "pattern = r\"^apple\"\n",
    "\n",
    "# of you dont enable multiline then it just show first  apple reason is \n",
    "# mutiline_string = \"apple of line1\\napple of line2\\napple of line3\"\n",
    "\n",
    "print(mutiline_string)\n",
    "print(re.findall(pattern, mutiline_string))\n",
    "print(re.findall(pattern, mutiline_string, re.MULTILINE))"
   ]
  },
  {
   "cell_type": "code",
   "execution_count": 190,
   "metadata": {},
   "outputs": [
    {
     "name": "stdout",
     "output_type": "stream",
     "text": [
      "apple\n",
      "apple\n",
      "apple\n",
      "['apple']\n",
      "['apple', 'apple', 'apple']\n"
     ]
    }
   ],
   "source": [
    "\"\"\"\n",
    "re.MULTILINE example\n",
    "\"\"\"\n",
    "mutiline_string = \"\"\"apple\n",
    "apple\n",
    "apple\"\"\"\n",
    "\n",
    "pattern = r\"apple$\"\n",
    "\n",
    "# of you dont enable multiline then it just show one last apple reason is \n",
    "# mutiline_string = \"apple\\napple\\n\"\n",
    "\n",
    "print(mutiline_string)\n",
    "print(re.findall(pattern, mutiline_string))\n",
    "print(re.findall(pattern, mutiline_string, re.MULTILINE))"
   ]
  },
  {
   "cell_type": "code",
   "execution_count": 191,
   "metadata": {},
   "outputs": [
    {
     "name": "stdout",
     "output_type": "stream",
     "text": [
      "apple of line1\n",
      "APPLE of line2\n",
      "apple of line3\n",
      "['apple']\n",
      "['apple', 'APPLE', 'apple']\n"
     ]
    }
   ],
   "source": [
    "\"\"\"\n",
    "re.MULTILINE and re.IGNORECASE example\n",
    "\"\"\"\n",
    "mutiline_string = \"\"\"apple of line1\n",
    "APPLE of line2\n",
    "apple of line3\"\"\"\n",
    "pattern = r\"^apple\"\n",
    "\n",
    "print(mutiline_string)\n",
    "print(re.findall(pattern, mutiline_string))\n",
    "print(re.findall(pattern, mutiline_string, re.IGNORECASE|re.MULTILINE))"
   ]
  },
  {
   "cell_type": "code",
   "execution_count": 192,
   "metadata": {},
   "outputs": [
    {
     "name": "stdout",
     "output_type": "stream",
     "text": [
      "['1', '2', '3', '4', 'A', 'B', 'C', 'D', 'अ', 'क', 'आ', 'क', 'ॲ', 'क', 'ऑ', 'क', 'इ', 'क', 'ई', 'क', 'उ', 'क', 'ऊ', 'क', 'ऎ', 'क', 'ए', 'क', 'ऐ', 'क', 'ऒ', 'क', 'ओ', 'क', 'औ', 'क', 'ऋ', 'क', 'ॠ', 'क', 'ऌ', 'क', 'ॡ', 'क', 'अ', 'क', 'अ', 'क', 'ண', 'ட', 'க', 'ள', 'க', 'ச', 'ய', 'ய', 'ள', 'வ', 'ட', 'வ', 'ம', 'த', 'ம', 'ழ', 'ல', 'இ', 'ல', 'க', 'க', 'ய', 'ம', 'ம', 'த', 'த', 'த', 'வ', 'ம', 'ம', 'ப', 'ய', 'ன', 'ப', 'ட', 'த', 'த', 'ப', 'ப', 'ட', 'ட', 'த', 'உ', 'ர', 'வ', 'ட', 'வ', 'ம', 'இ', 'ல', 'க', 'க', 'ண', 'ங', 'க', 'ள', 'க', 'க', 'ம', 'ச', 'ய', 'ய', 'ள', 'வ', 'ள', 'க', 'க', 'ம', 'க', 'ற', 'வ', 'ம', 'ச', 'ச', 'ன', 'ங', 'க', 'ள', 'r', 'e', 'c', 'o', 'r', 'd', 's', 'ப', 'த', 'ய', 'வ', 'ம', 'ப', 'ய', 'ன', 'ப', 'ட', 'த', 'த', 'ப', 'ப', 'ட', 'ட', 'த', '2', '0', 'ஆ', 'ம', 'ந', 'ற', 'ற', 'ண', 'ட', 'ல', 'ய', 'உ', 'ர', 'வ', 'ட', 'வ', 'ம', 'வ', 'ள', 'ர', 'ச', 'ச', 'ப']\n"
     ]
    }
   ],
   "source": [
    "tamil_english__digits_devnagri_string = \"1234 ABCD अकआकाॲकॅऑकॉइकिईकीउकुऊकूऎकॆएकेऐकैऒकॊओकोऔकौऋकृॠकॄऌकॢॡकॣअंकंअःकः ண்டுகளாக செய்யுள் வடிவமே தமிழில் இலக்கியமும் தத்துவமும் பயன்படுத்தப்பட்டது. உரை வடிவம் இலக்கணங்களுக்கும், செய்யுள் விளக்கம் கூறவும், சாசனங்கள் (records) பதியவும் பயன்படுத்தப்பட்டது. 20ஆம் நூற்றாண்டிலேயே உரை வடிவம் வளர்ச்சி பெ\"\n",
    "\n",
    "pattren = r\"\\w\"\n",
    "\n",
    "print(re.findall( pattren , tamil_english__digits_devnagri_string))\n"
   ]
  },
  {
   "cell_type": "code",
   "execution_count": 193,
   "metadata": {},
   "outputs": [],
   "source": [
    "# \\d matches devnagri or any languate digits also ( default behaviour python3). incase you dont want to match other \n",
    "# language then use re.LOCALE\n",
    "# \\D matches non numeric data.\n",
    "# \\w matches words in any language. to overwride the behaviour use re.LOCALE\n",
    "# \\W match any non word character\n"
   ]
  },
  {
   "cell_type": "code",
   "execution_count": null,
   "metadata": {},
   "outputs": [],
   "source": []
  },
  {
   "cell_type": "code",
   "execution_count": 194,
   "metadata": {},
   "outputs": [
    {
     "name": "stdout",
     "output_type": "stream",
     "text": [
      "Text தமிழ் Tamil, Hindi हिन्दी, Japanese 日本語,  1234.\n",
      "\n",
      "Pattern With Locale Flag: (?L)\\w+\n"
     ]
    },
    {
     "ename": "ValueError",
     "evalue": "cannot use LOCALE flag with a str pattern",
     "output_type": "error",
     "traceback": [
      "\u001b[1;31m---------------------------------------------------------------------------\u001b[0m",
      "\u001b[1;31mValueError\u001b[0m                                Traceback (most recent call last)",
      "\u001b[1;32m<ipython-input-194-028da5cf227b>\u001b[0m in \u001b[0;36m<module>\u001b[1;34m()\u001b[0m\n\u001b[0;32m     30\u001b[0m         print ('-->Text:{0}, Index:{1}, Length:{2}'.format(\n\u001b[0;32m     31\u001b[0m                 match.group(0), match.start(),len(match.group(0))))\n\u001b[1;32m---> 32\u001b[1;33m \u001b[0municode_flag_example\u001b[0m\u001b[1;33m(\u001b[0m\u001b[1;33m)\u001b[0m\u001b[1;33m\u001b[0m\u001b[0m\n\u001b[0m",
      "\u001b[1;32m<ipython-input-194-028da5cf227b>\u001b[0m in \u001b[0;36municode_flag_example\u001b[1;34m()\u001b[0m\n\u001b[0;32m      9\u001b[0m     \u001b[0mpattern\u001b[0m \u001b[1;33m=\u001b[0m \u001b[1;34mr\"(?L)\\w+\"\u001b[0m\u001b[1;33m\u001b[0m\u001b[0m\n\u001b[0;32m     10\u001b[0m     \u001b[0mprint\u001b[0m \u001b[1;33m(\u001b[0m\u001b[1;34m'Pattern With Locale Flag: {0}'\u001b[0m\u001b[1;33m.\u001b[0m\u001b[0mformat\u001b[0m\u001b[1;33m(\u001b[0m\u001b[0mpattern\u001b[0m\u001b[1;33m)\u001b[0m\u001b[1;33m)\u001b[0m\u001b[1;33m\u001b[0m\u001b[0m\n\u001b[1;32m---> 11\u001b[1;33m     \u001b[0mmatch_iter\u001b[0m \u001b[1;33m=\u001b[0m \u001b[0mre\u001b[0m\u001b[1;33m.\u001b[0m\u001b[0mfinditer\u001b[0m\u001b[1;33m(\u001b[0m\u001b[0mpattern\u001b[0m\u001b[1;33m,\u001b[0m \u001b[0municode_text\u001b[0m\u001b[1;33m)\u001b[0m\u001b[1;33m\u001b[0m\u001b[0m\n\u001b[0m\u001b[0;32m     12\u001b[0m \u001b[1;33m\u001b[0m\u001b[0m\n\u001b[0;32m     13\u001b[0m     \u001b[1;32mfor\u001b[0m \u001b[0mmatch\u001b[0m \u001b[1;32min\u001b[0m \u001b[0mmatch_iter\u001b[0m\u001b[1;33m:\u001b[0m\u001b[1;33m\u001b[0m\u001b[0m\n",
      "\u001b[1;32mD:\\ProgramData\\Anaconda3\\lib\\re.py\u001b[0m in \u001b[0;36mfinditer\u001b[1;34m(pattern, string, flags)\u001b[0m\n\u001b[0;32m    227\u001b[0m \u001b[1;33m\u001b[0m\u001b[0m\n\u001b[0;32m    228\u001b[0m     Empty matches are included in the result.\"\"\"\n\u001b[1;32m--> 229\u001b[1;33m     \u001b[1;32mreturn\u001b[0m \u001b[0m_compile\u001b[0m\u001b[1;33m(\u001b[0m\u001b[0mpattern\u001b[0m\u001b[1;33m,\u001b[0m \u001b[0mflags\u001b[0m\u001b[1;33m)\u001b[0m\u001b[1;33m.\u001b[0m\u001b[0mfinditer\u001b[0m\u001b[1;33m(\u001b[0m\u001b[0mstring\u001b[0m\u001b[1;33m)\u001b[0m\u001b[1;33m\u001b[0m\u001b[0m\n\u001b[0m\u001b[0;32m    230\u001b[0m \u001b[1;33m\u001b[0m\u001b[0m\n\u001b[0;32m    231\u001b[0m \u001b[1;32mdef\u001b[0m \u001b[0mcompile\u001b[0m\u001b[1;33m(\u001b[0m\u001b[0mpattern\u001b[0m\u001b[1;33m,\u001b[0m \u001b[0mflags\u001b[0m\u001b[1;33m=\u001b[0m\u001b[1;36m0\u001b[0m\u001b[1;33m)\u001b[0m\u001b[1;33m:\u001b[0m\u001b[1;33m\u001b[0m\u001b[0m\n",
      "\u001b[1;32mD:\\ProgramData\\Anaconda3\\lib\\re.py\u001b[0m in \u001b[0;36m_compile\u001b[1;34m(pattern, flags)\u001b[0m\n\u001b[0;32m    299\u001b[0m     \u001b[1;32mif\u001b[0m \u001b[1;32mnot\u001b[0m \u001b[0msre_compile\u001b[0m\u001b[1;33m.\u001b[0m\u001b[0misstring\u001b[0m\u001b[1;33m(\u001b[0m\u001b[0mpattern\u001b[0m\u001b[1;33m)\u001b[0m\u001b[1;33m:\u001b[0m\u001b[1;33m\u001b[0m\u001b[0m\n\u001b[0;32m    300\u001b[0m         \u001b[1;32mraise\u001b[0m \u001b[0mTypeError\u001b[0m\u001b[1;33m(\u001b[0m\u001b[1;34m\"first argument must be string or compiled pattern\"\u001b[0m\u001b[1;33m)\u001b[0m\u001b[1;33m\u001b[0m\u001b[0m\n\u001b[1;32m--> 301\u001b[1;33m     \u001b[0mp\u001b[0m \u001b[1;33m=\u001b[0m \u001b[0msre_compile\u001b[0m\u001b[1;33m.\u001b[0m\u001b[0mcompile\u001b[0m\u001b[1;33m(\u001b[0m\u001b[0mpattern\u001b[0m\u001b[1;33m,\u001b[0m \u001b[0mflags\u001b[0m\u001b[1;33m)\u001b[0m\u001b[1;33m\u001b[0m\u001b[0m\n\u001b[0m\u001b[0;32m    302\u001b[0m     \u001b[1;32mif\u001b[0m \u001b[1;32mnot\u001b[0m \u001b[1;33m(\u001b[0m\u001b[0mflags\u001b[0m \u001b[1;33m&\u001b[0m \u001b[0mDEBUG\u001b[0m\u001b[1;33m)\u001b[0m\u001b[1;33m:\u001b[0m\u001b[1;33m\u001b[0m\u001b[0m\n\u001b[0;32m    303\u001b[0m         \u001b[1;32mif\u001b[0m \u001b[0mlen\u001b[0m\u001b[1;33m(\u001b[0m\u001b[0m_cache\u001b[0m\u001b[1;33m)\u001b[0m \u001b[1;33m>=\u001b[0m \u001b[0m_MAXCACHE\u001b[0m\u001b[1;33m:\u001b[0m\u001b[1;33m\u001b[0m\u001b[0m\n",
      "\u001b[1;32mD:\\ProgramData\\Anaconda3\\lib\\sre_compile.py\u001b[0m in \u001b[0;36mcompile\u001b[1;34m(p, flags)\u001b[0m\n\u001b[0;32m    560\u001b[0m     \u001b[1;32mif\u001b[0m \u001b[0misstring\u001b[0m\u001b[1;33m(\u001b[0m\u001b[0mp\u001b[0m\u001b[1;33m)\u001b[0m\u001b[1;33m:\u001b[0m\u001b[1;33m\u001b[0m\u001b[0m\n\u001b[0;32m    561\u001b[0m         \u001b[0mpattern\u001b[0m \u001b[1;33m=\u001b[0m \u001b[0mp\u001b[0m\u001b[1;33m\u001b[0m\u001b[0m\n\u001b[1;32m--> 562\u001b[1;33m         \u001b[0mp\u001b[0m \u001b[1;33m=\u001b[0m \u001b[0msre_parse\u001b[0m\u001b[1;33m.\u001b[0m\u001b[0mparse\u001b[0m\u001b[1;33m(\u001b[0m\u001b[0mp\u001b[0m\u001b[1;33m,\u001b[0m \u001b[0mflags\u001b[0m\u001b[1;33m)\u001b[0m\u001b[1;33m\u001b[0m\u001b[0m\n\u001b[0m\u001b[0;32m    563\u001b[0m     \u001b[1;32melse\u001b[0m\u001b[1;33m:\u001b[0m\u001b[1;33m\u001b[0m\u001b[0m\n\u001b[0;32m    564\u001b[0m         \u001b[0mpattern\u001b[0m \u001b[1;33m=\u001b[0m \u001b[1;32mNone\u001b[0m\u001b[1;33m\u001b[0m\u001b[0m\n",
      "\u001b[1;32mD:\\ProgramData\\Anaconda3\\lib\\sre_parse.py\u001b[0m in \u001b[0;36mparse\u001b[1;34m(str, flags, pattern)\u001b[0m\n\u001b[0;32m    863\u001b[0m         \u001b[0mp\u001b[0m \u001b[1;33m=\u001b[0m \u001b[0m_parse_sub\u001b[0m\u001b[1;33m(\u001b[0m\u001b[0msource\u001b[0m\u001b[1;33m,\u001b[0m \u001b[0mpattern\u001b[0m\u001b[1;33m,\u001b[0m \u001b[1;32mTrue\u001b[0m\u001b[1;33m,\u001b[0m \u001b[1;36m0\u001b[0m\u001b[1;33m)\u001b[0m\u001b[1;33m\u001b[0m\u001b[0m\n\u001b[0;32m    864\u001b[0m \u001b[1;33m\u001b[0m\u001b[0m\n\u001b[1;32m--> 865\u001b[1;33m     \u001b[0mp\u001b[0m\u001b[1;33m.\u001b[0m\u001b[0mpattern\u001b[0m\u001b[1;33m.\u001b[0m\u001b[0mflags\u001b[0m \u001b[1;33m=\u001b[0m \u001b[0mfix_flags\u001b[0m\u001b[1;33m(\u001b[0m\u001b[0mstr\u001b[0m\u001b[1;33m,\u001b[0m \u001b[0mp\u001b[0m\u001b[1;33m.\u001b[0m\u001b[0mpattern\u001b[0m\u001b[1;33m.\u001b[0m\u001b[0mflags\u001b[0m\u001b[1;33m)\u001b[0m\u001b[1;33m\u001b[0m\u001b[0m\n\u001b[0m\u001b[0;32m    866\u001b[0m \u001b[1;33m\u001b[0m\u001b[0m\n\u001b[0;32m    867\u001b[0m     \u001b[1;32mif\u001b[0m \u001b[0msource\u001b[0m\u001b[1;33m.\u001b[0m\u001b[0mnext\u001b[0m \u001b[1;32mis\u001b[0m \u001b[1;32mnot\u001b[0m \u001b[1;32mNone\u001b[0m\u001b[1;33m:\u001b[0m\u001b[1;33m\u001b[0m\u001b[0m\n",
      "\u001b[1;32mD:\\ProgramData\\Anaconda3\\lib\\sre_parse.py\u001b[0m in \u001b[0;36mfix_flags\u001b[1;34m(src, flags)\u001b[0m\n\u001b[0;32m    830\u001b[0m     \u001b[1;32mif\u001b[0m \u001b[0misinstance\u001b[0m\u001b[1;33m(\u001b[0m\u001b[0msrc\u001b[0m\u001b[1;33m,\u001b[0m \u001b[0mstr\u001b[0m\u001b[1;33m)\u001b[0m\u001b[1;33m:\u001b[0m\u001b[1;33m\u001b[0m\u001b[0m\n\u001b[0;32m    831\u001b[0m         \u001b[1;32mif\u001b[0m \u001b[0mflags\u001b[0m \u001b[1;33m&\u001b[0m \u001b[0mSRE_FLAG_LOCALE\u001b[0m\u001b[1;33m:\u001b[0m\u001b[1;33m\u001b[0m\u001b[0m\n\u001b[1;32m--> 832\u001b[1;33m             \u001b[1;32mraise\u001b[0m \u001b[0mValueError\u001b[0m\u001b[1;33m(\u001b[0m\u001b[1;34m\"cannot use LOCALE flag with a str pattern\"\u001b[0m\u001b[1;33m)\u001b[0m\u001b[1;33m\u001b[0m\u001b[0m\n\u001b[0m\u001b[0;32m    833\u001b[0m         \u001b[1;32mif\u001b[0m \u001b[1;32mnot\u001b[0m \u001b[0mflags\u001b[0m \u001b[1;33m&\u001b[0m \u001b[0mSRE_FLAG_ASCII\u001b[0m\u001b[1;33m:\u001b[0m\u001b[1;33m\u001b[0m\u001b[0m\n\u001b[0;32m    834\u001b[0m             \u001b[0mflags\u001b[0m \u001b[1;33m|=\u001b[0m \u001b[0mSRE_FLAG_UNICODE\u001b[0m\u001b[1;33m\u001b[0m\u001b[0m\n",
      "\u001b[1;31mValueError\u001b[0m: cannot use LOCALE flag with a str pattern"
     ]
    }
   ],
   "source": [
    "def unicode_flag_example():\n",
    "    # Purpose: Show differences in Locale, Unicode and Default option with regex\n",
    "    # With 3.x, default regex search is unicode enabled.  In 2.x, default is locale specific\n",
    "    unicode_text = \"தமிழ் Tamil, Hindi हिन्दी, Japanese 日本語,  1234.\"\n",
    "\n",
    "    print ('Text {0}'.format(unicode_text))\n",
    "    print ('')\n",
    "\n",
    "    pattern = r\"(?L)\\w+\"\n",
    "    print ('Pattern With Locale Flag: {0}'.format(pattern))\n",
    "    match_iter = re.finditer(pattern, unicode_text)\n",
    "\n",
    "    for match in match_iter:\n",
    "        print ('-->Text:{0}, Index:{1}, Length:{2}'.format(\n",
    "                match.group(0), match.start(),len(match.group(0))))\n",
    "    \n",
    "    print ('')\n",
    "    pattern = r\"(?u)\\w+\"\n",
    "    print ('Pattern With Unicode Flag: {0}'.format(pattern))\n",
    "    match_iter = re.finditer(pattern, unicode_text)\n",
    "    for match in match_iter:\n",
    "        print ('-->Text:{0}, Index:{1}, Length:{2}'.format(\n",
    "                match.group(0), match.start(),len(match.group(0))))\n",
    "    \n",
    "    print ('')\n",
    "    pattern = r\"\\w+\"\n",
    "    print ('Pattern Default Option: {0}'.format(pattern))\n",
    "    match_iter = re.finditer(pattern, unicode_text)\n",
    "    for match in match_iter:\n",
    "        print ('-->Text:{0}, Index:{1}, Length:{2}'.format(\n",
    "                match.group(0), match.start(),len(match.group(0))))\n",
    "unicode_flag_example()"
   ]
  },
  {
   "cell_type": "code",
   "execution_count": 195,
   "metadata": {},
   "outputs": [
    {
     "ename": "FileNotFoundError",
     "evalue": "[Errno 2] No such file or directory: 'C:\\\\RegexPythonCourse\\\\Data\\\\unicode\\\\TestUnicodeFile.txt'",
     "output_type": "error",
     "traceback": [
      "\u001b[1;31m---------------------------------------------------------------------------\u001b[0m",
      "\u001b[1;31mFileNotFoundError\u001b[0m                         Traceback (most recent call last)",
      "\u001b[1;32m<ipython-input-195-eec207fa0342>\u001b[0m in \u001b[0;36m<module>\u001b[1;34m()\u001b[0m\n\u001b[0;32m     16\u001b[0m                 end_time - start_time))\n\u001b[0;32m     17\u001b[0m \u001b[1;33m\u001b[0m\u001b[0m\n\u001b[1;32m---> 18\u001b[1;33m \u001b[0mfile_unicode_content_example\u001b[0m\u001b[1;33m(\u001b[0m\u001b[1;33m)\u001b[0m\u001b[1;33m\u001b[0m\u001b[0m\n\u001b[0m",
      "\u001b[1;32m<ipython-input-195-eec207fa0342>\u001b[0m in \u001b[0;36mfile_unicode_content_example\u001b[1;34m()\u001b[0m\n\u001b[0;32m      1\u001b[0m \u001b[1;32mdef\u001b[0m \u001b[0mfile_unicode_content_example\u001b[0m\u001b[1;33m(\u001b[0m\u001b[1;33m)\u001b[0m\u001b[1;33m:\u001b[0m\u001b[1;33m\u001b[0m\u001b[0m\n\u001b[0;32m      2\u001b[0m     \u001b[1;31m# Purpose: Read a file, apply regex, print results\u001b[0m\u001b[1;33m\u001b[0m\u001b[1;33m\u001b[0m\u001b[0m\n\u001b[1;32m----> 3\u001b[1;33m     \u001b[0mfile_content\u001b[0m \u001b[1;33m=\u001b[0m         \u001b[0mopen\u001b[0m\u001b[1;33m(\u001b[0m\u001b[1;34mr'C:\\RegexPythonCourse\\Data\\unicode\\TestUnicodeFile.txt'\u001b[0m\u001b[1;33m,\u001b[0m\u001b[1;34m'r'\u001b[0m\u001b[1;33m,\u001b[0m\u001b[0mencoding\u001b[0m\u001b[1;33m=\u001b[0m\u001b[1;34m'utf-8'\u001b[0m\u001b[1;33m)\u001b[0m\u001b[1;33m.\u001b[0m\u001b[0mread\u001b[0m\u001b[1;33m(\u001b[0m\u001b[1;33m)\u001b[0m\u001b[1;33m\u001b[0m\u001b[0m\n\u001b[0m\u001b[0;32m      4\u001b[0m     \u001b[0mpattern\u001b[0m \u001b[1;33m=\u001b[0m \u001b[1;34mr\"(?u)\\w+\"\u001b[0m\u001b[1;33m\u001b[0m\u001b[0m\n\u001b[0;32m      5\u001b[0m     \u001b[0mprint\u001b[0m \u001b[1;33m(\u001b[0m\u001b[1;34m'Pattern {0}'\u001b[0m\u001b[1;33m.\u001b[0m\u001b[0mformat\u001b[0m\u001b[1;33m(\u001b[0m\u001b[0mpattern\u001b[0m\u001b[1;33m)\u001b[0m\u001b[1;33m)\u001b[0m\u001b[1;33m\u001b[0m\u001b[0m\n",
      "\u001b[1;31mFileNotFoundError\u001b[0m: [Errno 2] No such file or directory: 'C:\\\\RegexPythonCourse\\\\Data\\\\unicode\\\\TestUnicodeFile.txt'"
     ]
    }
   ],
   "source": [
    "def file_unicode_content_example():\n",
    "    # Purpose: Read a file, apply regex, print results\n",
    "    file_content = \\\n",
    "        open(r'C:\\RegexPythonCourse\\Data\\unicode\\TestUnicodeFile.txt','r',encoding='utf-8').read()\n",
    "    pattern = r\"(?u)\\w+\"\n",
    "    print ('Pattern {0}'.format(pattern))\n",
    "    print ('Text {0}'.format(file_content))\n",
    "    # successful match|\n",
    "    print('Match')\n",
    "    match_iter = re.finditer(pattern, file_content)\n",
    "    start_time = time.time()\n",
    "    for match in match_iter:\n",
    "        end_time = time.time()\n",
    "        print ('{0},{1},{2},{3:0.2f}'.format(\n",
    "                match.group(0), match.start(), \n",
    "                match.end()-match.start(), \n",
    "                end_time - start_time))\n",
    "        \n",
    "file_unicode_content_example()"
   ]
  }
 ],
 "metadata": {
  "kernelspec": {
   "display_name": "Python 3",
   "language": "python",
   "name": "python3"
  },
  "language_info": {
   "codemirror_mode": {
    "name": "ipython",
    "version": 3
   },
   "file_extension": ".py",
   "mimetype": "text/x-python",
   "name": "python",
   "nbconvert_exporter": "python",
   "pygments_lexer": "ipython3",
   "version": "3.6.5"
  },
  "widgets": {
   "application/vnd.jupyter.widget-state+json": {
    "state": {},
    "version_major": 2,
    "version_minor": 0
   }
  }
 },
 "nbformat": 4,
 "nbformat_minor": 2
}
